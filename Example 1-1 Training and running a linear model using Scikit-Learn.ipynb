{
 "cells": [
  {
   "cell_type": "code",
   "execution_count": 25,
   "metadata": {},
   "outputs": [],
   "source": [
    "import matplotlib.pyplot as plt\n",
    "import numpy as np\n",
    "import pandas as pd\n",
    "import sklearn.linear_model"
   ]
  },
  {
   "cell_type": "code",
   "execution_count": 102,
   "metadata": {},
   "outputs": [],
   "source": [
    "def prepare_country_stats(oecd_bli, gdp_per_capita):\n",
    "    df1 = oecd_bli.loc[(oecd_bli['Indicator']=='Life satisfaction') & (oecd_bli['Inequality']=='Total'), ['Country', 'Value']]\n",
    "    df2 = gdp_per_capita[['Country','2015']]\n",
    "    country_stats = pd.merge(df1, df2, on='Country', how='inner')\n",
    "    country_stats.rename(columns={\"Value\": \"Life satisfaction\", \"2015\": \"GDP per capita\"},  inplace=True)\n",
    "    country_stats.sort_values(by=\"GDP per capita\",  inplace=True)\n",
    "    print (country_stats)\n",
    "\n",
    "    country_stats.set_index('Country', inplace=True)\n",
    "    # The code in the book removes certain countries from the data as they are not representitive of the data trend.\n",
    "    #[ Colombia, Brazil, Mexico, Greece, Portugal, Chile, Czech Republic, Luxembourg, United States]\n",
    "    remove_indices = [38, 30, 17, 9, 22, 31, 4, 16, 29]\n",
    "    keep_indices = list(set(range(39)) - set(remove_indices))\n",
    "    subset_country_stats=country_stats[[\"GDP per capita\", 'Life satisfaction']].iloc[keep_indices]\n",
    "    return subset_country_stats"
   ]
  },
  {
   "cell_type": "code",
   "execution_count": 103,
   "metadata": {},
   "outputs": [
    {
     "name": "stdout",
     "output_type": "stream",
     "text": [
      "            Country  Life satisfaction  GDP per capita\n",
      "37     South Africa                4.7        5694.572\n",
      "38         Colombia                6.3        6083.510\n",
      "30           Brazil                6.4        8669.998\n",
      "17           Mexico                6.5        9009.280\n",
      "35           Russia                5.8        9054.914\n",
      "27           Turkey                5.5        9437.372\n",
      "10          Hungary                5.6       12239.894\n",
      "21           Poland                6.1       12495.334\n",
      "31            Chile                6.5       13340.905\n",
      "34           Latvia                5.9       13618.569\n",
      "39        Lithuania                5.9       14210.280\n",
      "23  Slovak Republic                6.2       15991.736\n",
      "4    Czech Republic                6.7       17256.918\n",
      "32          Estonia                5.7       17288.083\n",
      "9            Greece                5.4       18064.288\n",
      "22         Portugal                5.4       19121.592\n",
      "36         Slovenia                5.9       20732.482\n",
      "24            Spain                6.3       25864.721\n",
      "15            Korea                5.9       27195.197\n",
      "13            Italy                6.0       29866.581\n",
      "14            Japan                5.9       32485.545\n",
      "33           Israel                7.2       35343.336\n",
      "19      New Zealand                7.3       37044.891\n",
      "7            France                6.5       37675.006\n",
      "2           Belgium                6.9       40106.632\n",
      "8           Germany                7.0       40996.511\n",
      "6           Finland                7.6       41973.988\n",
      "3            Canada                7.4       43331.961\n",
      "18      Netherlands                7.4       43603.115\n",
      "1           Austria                7.1       43724.031\n",
      "28   United Kingdom                6.8       43770.688\n",
      "25           Sweden                7.3       49866.266\n",
      "11          Iceland                7.5       50854.583\n",
      "0         Australia                7.3       50961.865\n",
      "12          Ireland                7.0       51350.744\n",
      "5           Denmark                7.6       52114.165\n",
      "29    United States                6.9       55805.204\n",
      "20           Norway                7.6       74822.106\n",
      "26      Switzerland                7.5       80675.308\n",
      "16       Luxembourg                6.9      101994.093\n"
     ]
    }
   ],
   "source": [
    "#Load the data\n",
    "\n",
    "# Before running this code, export data in .csv format to your system from:\n",
    "# https://stats.oecd.org/index.aspx?DataSetCode=BLI \n",
    "oecd_bli = pd.read_csv(\"BLI_21032020193554577.csv\", thousands=',')\n",
    "\n",
    "# Before running this code, download data in .xls format to your system from: \n",
    "# https://www.imf.org/external/pubs/ft/weo/2016/01/weodata/weorept.aspx?pr.x=32&pr.y=8&sy=2015&ey=2015&scsm=1&ssd=1&sort=country&ds=.&br=1&c=512%2C668%2C914%2C672%2C612%2C946%2C614%2C137%2C311%2C962%2C213%2C674%2C911%2C676%2C193%2C548%2C122%2C556%2C912%2C678%2C313%2C181%2C419%2C867%2C513%2C682%2C316%2C684%2C913%2C273%2C124%2C868%2C339%2C921%2C638%2C948%2C514%2C943%2C218%2C686%2C963%2C688%2C616%2C518%2C223%2C728%2C516%2C558%2C918%2C138%2C748%2C196%2C618%2C278%2C624%2C692%2C522%2C694%2C622%2C142%2C156%2C449%2C626%2C564%2C628%2C565%2C228%2C283%2C924%2C853%2C233%2C288%2C632%2C293%2C636%2C566%2C634%2C964%2C238%2C182%2C662%2C453%2C960%2C968%2C423%2C922%2C935%2C714%2C128%2C862%2C611%2C135%2C321%2C716%2C243%2C456%2C248%2C722%2C469%2C942%2C253%2C718%2C642%2C724%2C643%2C576%2C939%2C936%2C644%2C961%2C819%2C813%2C172%2C199%2C132%2C733%2C646%2C184%2C648%2C524%2C915%2C361%2C134%2C362%2C652%2C364%2C174%2C732%2C328%2C366%2C258%2C734%2C656%2C144%2C654%2C146%2C336%2C463%2C263%2C528%2C268%2C923%2C532%2C738%2C944%2C578%2C176%2C537%2C534%2C742%2C536%2C866%2C429%2C369%2C433%2C744%2C178%2C186%2C436%2C925%2C136%2C869%2C343%2C746%2C158%2C926%2C439%2C466%2C916%2C112%2C664%2C111%2C826%2C298%2C542%2C927%2C967%2C846%2C443%2C299%2C917%2C582%2C544%2C474%2C941%2C754%2C446%2C698%2C666&s=NGDPDPC&grp=0&a=\n",
    "gdp_per_capita = pd.read_csv(\"WEO_Data.xls\", thousands=',', delimiter='\\t',\n",
    "                            encoding='latin1', na_values=\"n/a\")\n",
    "\n",
    "# As you have downloaded fresh data, your results will vary from the book\n",
    "\n",
    "country_stats = prepare_country_stats(oecd_bli, gdp_per_capita)\n",
    "x = np.c_[country_stats['GDP per capita']]\n",
    "y = np.c_[country_stats['Life satisfaction']]\n"
   ]
  },
  {
   "cell_type": "code",
   "execution_count": 104,
   "metadata": {},
   "outputs": [
    {
     "data": {
      "image/png": "[encoded data removed]",
      "text/plain": [
       "<Figure size 432x288 with 1 Axes>"
      ]
     },
     "metadata": {
      "needs_background": "light"
     },
     "output_type": "display_data"
    }
   ],
   "source": [
    "# plot the data\n",
    "country_stats.plot(kind='scatter', x=\"GDP per capita\",y=\"Life satisfaction\")\n",
    "plt.show()"
   ]
  },
  {
   "cell_type": "code",
   "execution_count": 105,
   "metadata": {},
   "outputs": [
    {
     "name": "stdout",
     "output_type": "stream",
     "text": [
      "[[6.25408355]]\n"
     ]
    },
    {
     "data": {
      "image/png": "[encoded data removed]",
      "text/plain": [
       "<Figure size 432x288 with 1 Axes>"
      ]
     },
     "metadata": {
      "needs_background": "light"
     },
     "output_type": "display_data"
    }
   ],
   "source": [
    "model = sklearn.linear_model.LinearRegression()\n",
    "# train the model\n",
    "model.fit(x,y)\n",
    "#make prediction on the model\n",
    "x_new = [[22587]]\n",
    "print(model.predict(x_new))\n",
    "\n",
    "#plot the learned model\n",
    "t0, t1 = model.intercept_[0], model.coef_[0][0]\n",
    "country_stats.plot(kind='scatter', x=\"GDP per capita\",y=\"Life satisfaction\")\n",
    "plt.plot(x, t0 + t1*x, \"b\", color='darkorange')\n",
    "plt.show()"
   ]
  },
  {
   "cell_type": "code",
   "execution_count": 110,
   "metadata": {},
   "outputs": [
    {
     "name": "stdout",
     "output_type": "stream",
     "text": [
      "[[5.56666667]]\n"
     ]
    },
    {
     "data": {
      "image/png": "[encoded data removed]",
      "text/plain": [
       "<Figure size 432x288 with 1 Axes>"
      ]
     },
     "metadata": {
      "needs_background": "light"
     },
     "output_type": "display_data"
    }
   ],
   "source": [
    "# using k-nearest neigbour instead of linear regression model\n",
    "\n",
    "n_neighbors=3 # change the number of n_neighbors and see how the model varies\n",
    "model = sklearn.neighbors.KNeighborsRegressor(n_neighbors)\n",
    "# train the model\n",
    "model.fit(x,y)\n",
    "#make prediction on the model\n",
    "x_new = [[22587]]\n",
    "print(model.predict(x_new))\n",
    "\n",
    "#plot the learned model\n",
    "y_predicted = model.predict(x)\n",
    "country_stats.plot(kind='scatter', x=\"GDP per capita\",y=\"Life satisfaction\")\n",
    "plt.plot(x, y_predicted, \"b\", color='darkorange')\n",
    "plt.show()"
   ]
  },
  {
   "cell_type": "code",
   "execution_count": null,
   "metadata": {},
   "outputs": [],
   "source": []
  },
  {
   "cell_type": "code",
   "execution_count": null,
   "metadata": {},
   "outputs": [],
   "source": []
  }
 ],
 "metadata": {
  "kernelspec": {
   "display_name": "Python 3",
   "language": "python",
   "name": "python3"
  },
  "language_info": {
   "codemirror_mode": {
    "name": "ipython",
    "version": 3
   },
   "file_extension": ".py",
   "mimetype": "text/x-python",
   "name": "python",
   "nbconvert_exporter": "python",
   "pygments_lexer": "ipython3",
   "version": "3.7.3"
  }
 },
 "nbformat": 4,
 "nbformat_minor": 2
}
